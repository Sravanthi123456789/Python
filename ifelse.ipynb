{
  "nbformat": 4,
  "nbformat_minor": 0,
  "metadata": {
    "colab": {
      "name": "Untitled3.ipynb",
      "provenance": [],
      "authorship_tag": "ABX9TyMImhYo1PVFz3uuWCE1HaUk",
      "include_colab_link": true
    },
    "kernelspec": {
      "name": "python3",
      "display_name": "Python 3"
    },
    "language_info": {
      "name": "python"
    }
  },
  "cells": [
    {
      "cell_type": "markdown",
      "metadata": {
        "id": "view-in-github",
        "colab_type": "text"
      },
      "source": [
        "<a href=\"https://colab.research.google.com/github/Sravanthi123456789/Python/blob/main/ifelse.ipynb\" target=\"_parent\"><img src=\"https://colab.research.google.com/assets/colab-badge.svg\" alt=\"Open In Colab\"/></a>"
      ]
    },
    {
      "cell_type": "code",
      "execution_count": 1,
      "metadata": {
        "colab": {
          "base_uri": "https://localhost:8080/"
        },
        "id": "WA11lGzhGyz1",
        "outputId": "027bd961-eb09-4728-af0f-3d41e41e85e3"
      },
      "outputs": [
        {
          "output_type": "stream",
          "name": "stdout",
          "text": [
            "30\n",
            "hi\n"
          ]
        }
      ],
      "source": [
        "a=10\n",
        "b=20\n",
        "print(a+b)\n",
        "print(\"hi\")"
      ]
    },
    {
      "cell_type": "markdown",
      "source": [
        "tab space-INDENTATION\n",
        "used in place of flower brackets (if,if else)\n",
        "* indentation tells wether the logic is inside the loop or outside the loop\n",
        "* indentation differniate logic within the loop and outside the loop"
      ],
      "metadata": {
        "id": "fG71fLJ0G_xu"
      }
    },
    {
      "cell_type": "code",
      "source": [
        "age=10\n",
        "if age>18:\n",
        "  print(\"im inside if block\")\n",
        "#print(\"im outside if block\")"
      ],
      "metadata": {
        "id": "IsLFiqcLJd2L"
      },
      "execution_count": null,
      "outputs": []
    },
    {
      "cell_type": "code",
      "source": [
        "age=10\n",
        "if age>18:\n",
        "  print(\"im inside if block\")\n",
        "print(\"im outside if block\")"
      ],
      "metadata": {
        "colab": {
          "base_uri": "https://localhost:8080/"
        },
        "id": "tqIinK7YLF36",
        "outputId": "c86999fa-3a6f-4870-e01b-699acd7431e5"
      },
      "execution_count": null,
      "outputs": [
        {
          "output_type": "stream",
          "name": "stdout",
          "text": [
            "im outside if block\n"
          ]
        }
      ]
    },
    {
      "cell_type": "code",
      "source": [
        "age=20\n",
        "if age>18:\n",
        "  print(\"im inside if block\")\n",
        "print(\"im outside if block\")"
      ],
      "metadata": {
        "colab": {
          "base_uri": "https://localhost:8080/"
        },
        "id": "TXibhIeaLHNZ",
        "outputId": "01935ab4-1f42-4c9f-f282-1aca8c4fa7e9"
      },
      "execution_count": null,
      "outputs": [
        {
          "output_type": "stream",
          "name": "stdout",
          "text": [
            "im inside if block\n",
            "im outside if block\n"
          ]
        }
      ]
    },
    {
      "cell_type": "code",
      "source": [
        "age=10\n",
        "if age>18:\n",
        "  print(\"eligible for vote\")\n",
        "else:\n",
        "  print(\"not eligible for vote\")"
      ],
      "metadata": {
        "colab": {
          "base_uri": "https://localhost:8080/"
        },
        "id": "xhYkyrlULYnM",
        "outputId": "75aed16e-eff6-4f2b-888e-b1d5a615f499"
      },
      "execution_count": null,
      "outputs": [
        {
          "output_type": "stream",
          "name": "stdout",
          "text": [
            "not eligible for vote\n"
          ]
        }
      ]
    }
  ]
}