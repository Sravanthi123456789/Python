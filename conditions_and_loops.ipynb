{
  "nbformat": 4,
  "nbformat_minor": 0,
  "metadata": {
    "colab": {
      "name": "conditions and loops.ipynb",
      "provenance": [],
      "collapsed_sections": [],
      "authorship_tag": "ABX9TyN4SlI0IWTstSX3tSdd4qHX",
      "include_colab_link": true
    },
    "kernelspec": {
      "name": "python3",
      "display_name": "Python 3"
    },
    "language_info": {
      "name": "python"
    }
  },
  "cells": [
    {
      "cell_type": "markdown",
      "metadata": {
        "id": "view-in-github",
        "colab_type": "text"
      },
      "source": [
        "<a href=\"https://colab.research.google.com/github/Sravanthi123456789/Python/blob/main/conditions_and_loops.ipynb\" target=\"_parent\"><img src=\"https://colab.research.google.com/assets/colab-badge.svg\" alt=\"Open In Colab\"/></a>"
      ]
    },
    {
      "cell_type": "markdown",
      "source": [
        "CONDITIONAL STATEMENTS"
      ],
      "metadata": {
        "id": "2g9i_BFDQYlI"
      }
    },
    {
      "cell_type": "markdown",
      "source": [
        "***** EX:- Take a variable x and print \"EVEN\" if the number is divisible by 2 ,\n",
        "otherwise print \"ODD\"."
      ],
      "metadata": {
        "id": "t4ekc_HPQo9m"
      }
    },
    {
      "cell_type": "code",
      "source": [
        "x=5\n",
        "if(x%2==0):\n",
        "  print(\"EVEN\")\n",
        "else:\n",
        "  print(\"ODD\")  "
      ],
      "metadata": {
        "colab": {
          "base_uri": "https://localhost:8080/"
        },
        "id": "weUplxcURIma",
        "outputId": "6e03144f-cd59-4880-d753-24d04153d0a2"
      },
      "execution_count": 2,
      "outputs": [
        {
          "output_type": "stream",
          "name": "stdout",
          "text": [
            "ODD\n"
          ]
        }
      ]
    },
    {
      "cell_type": "markdown",
      "source": [
        "*****  EX:- Take a variable y and print \"GRADE A\" if y is greater than 90,\n",
        "print\"GRADE B\" if y is greater than 60 and less than or equal to 90,\n",
        "print\"GRADE F\" otherwise."
      ],
      "metadata": {
        "id": "Aqa5qJdXX5W1"
      }
    },
    {
      "cell_type": "code",
      "source": [
        "y=90\n",
        "if(y>90):\n",
        "  print(\"GRADE A\")\n",
        "elif(y>60 and y<=90):\n",
        "  print(\"GRADE B\")\n",
        "else:\n",
        "  print(\"GRADE F\")"
      ],
      "metadata": {
        "colab": {
          "base_uri": "https://localhost:8080/"
        },
        "id": "7Q6kOsiKYldl",
        "outputId": "facef0ea-ff89-4933-e48f-79d9caf0c354"
      },
      "execution_count": 4,
      "outputs": [
        {
          "output_type": "stream",
          "name": "stdout",
          "text": [
            "GRADE B\n"
          ]
        }
      ]
    },
    {
      "cell_type": "markdown",
      "source": [
        "LOOPING CONSTRUCTS"
      ],
      "metadata": {
        "id": "xgwOxkmFjG4E"
      }
    },
    {
      "cell_type": "code",
      "source": [
        "for i in range(10):\n",
        "  print(\"python is awesome\")"
      ],
      "metadata": {
        "colab": {
          "base_uri": "https://localhost:8080/"
        },
        "id": "NukTjgVCjN0u",
        "outputId": "eeeb0cec-7262-4728-937e-d359a75931f0"
      },
      "execution_count": 7,
      "outputs": [
        {
          "output_type": "stream",
          "name": "stdout",
          "text": [
            "python is awesome\n",
            "python is awesome\n",
            "python is awesome\n",
            "python is awesome\n",
            "python is awesome\n",
            "python is awesome\n",
            "python is awesome\n",
            "python is awesome\n",
            "python is awesome\n",
            "python is awesome\n"
          ]
        }
      ]
    },
    {
      "cell_type": "markdown",
      "source": [
        "***** Write a for loop to print all the num between 10 and 30"
      ],
      "metadata": {
        "id": "8JA9R94ujs9y"
      }
    },
    {
      "cell_type": "code",
      "source": [
        "for i in range(11,30):\n",
        "  print(i)"
      ],
      "metadata": {
        "colab": {
          "base_uri": "https://localhost:8080/"
        },
        "id": "ULGw1ybxjcra",
        "outputId": "4233ada7-5427-4609-e639-cbe4525bc313"
      },
      "execution_count": 8,
      "outputs": [
        {
          "output_type": "stream",
          "name": "stdout",
          "text": [
            "11\n",
            "12\n",
            "13\n",
            "14\n",
            "15\n",
            "16\n",
            "17\n",
            "18\n",
            "19\n",
            "20\n",
            "21\n",
            "22\n",
            "23\n",
            "24\n",
            "25\n",
            "26\n",
            "27\n",
            "28\n",
            "29\n"
          ]
        }
      ]
    },
    {
      "cell_type": "markdown",
      "source": [
        "***** Write a for loop to print odd num between 10 and 30"
      ],
      "metadata": {
        "id": "VZnYmaqdj-oL"
      }
    },
    {
      "cell_type": "code",
      "source": [
        "for i in range(11,30,2):\n",
        "  print(i)"
      ],
      "metadata": {
        "colab": {
          "base_uri": "https://localhost:8080/"
        },
        "id": "iE9gAe9QkH0E",
        "outputId": "b37287db-191c-478e-a852-3681a925c88b"
      },
      "execution_count": 9,
      "outputs": [
        {
          "output_type": "stream",
          "name": "stdout",
          "text": [
            "11\n",
            "13\n",
            "15\n",
            "17\n",
            "19\n",
            "21\n",
            "23\n",
            "25\n",
            "27\n",
            "29\n"
          ]
        }
      ]
    }
  ]
}