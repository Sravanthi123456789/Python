{
  "nbformat": 4,
  "nbformat_minor": 0,
  "metadata": {
    "colab": {
      "name": "Untitled4.ipynb",
      "provenance": [],
      "authorship_tag": "ABX9TyMDf8Jmb6ZJyaMASGKuERXm",
      "include_colab_link": true
    },
    "kernelspec": {
      "name": "python3",
      "display_name": "Python 3"
    },
    "language_info": {
      "name": "python"
    }
  },
  "cells": [
    {
      "cell_type": "markdown",
      "metadata": {
        "id": "view-in-github",
        "colab_type": "text"
      },
      "source": [
        "<a href=\"https://colab.research.google.com/github/Sravanthi123456789/Python/blob/main/operators.ipynb\" target=\"_parent\"><img src=\"https://colab.research.google.com/assets/colab-badge.svg\" alt=\"Open In Colab\"/></a>"
      ]
    },
    {
      "cell_type": "code",
      "execution_count": 3,
      "metadata": {
        "colab": {
          "base_uri": "https://localhost:8080/"
        },
        "id": "U9g7FFFVQS0s",
        "outputId": "5d3bf8f7-413d-4f97-85f3-e013e2787489"
      },
      "outputs": [
        {
          "output_type": "stream",
          "name": "stdout",
          "text": [
            "it's raining\n"
          ]
        }
      ],
      "source": [
        "print('it\\'s raining')"
      ]
    },
    {
      "cell_type": "code",
      "source": [
        ""
      ],
      "metadata": {
        "id": "MPmqP74MRlE8"
      },
      "execution_count": null,
      "outputs": []
    },
    {
      "cell_type": "markdown",
      "source": [
        "'' or  \"\""
      ],
      "metadata": {
        "id": "phYO2ialRvbC"
      }
    },
    {
      "cell_type": "code",
      "source": [
        "\"\"\"print(\"hi\")\n",
        "print(\"hi\")\n",
        "print(\"hi\")\"\"\"\n",
        "print(\"hi\")"
      ],
      "metadata": {
        "colab": {
          "base_uri": "https://localhost:8080/"
        },
        "id": "vl8MnRiWSBXN",
        "outputId": "2275a7bf-380d-47e1-810e-3d1e44b817ad"
      },
      "execution_count": 11,
      "outputs": [
        {
          "output_type": "stream",
          "name": "stdout",
          "text": [
            "hi\n"
          ]
        }
      ]
    },
    {
      "cell_type": "markdown",
      "source": [
        "Arithmetic operators\n"
      ],
      "metadata": {
        "id": "AHxidczkT9Ge"
      }
    },
    {
      "cell_type": "markdown",
      "source": [
        "ADDITION"
      ],
      "metadata": {
        "id": "3zf4iC_8ZDlj"
      }
    },
    {
      "cell_type": "code",
      "source": [
        "a=10\n",
        "b=20\n",
        "print(a+b) \n"
      ],
      "metadata": {
        "colab": {
          "base_uri": "https://localhost:8080/"
        },
        "id": "yHYy37xVT-4r",
        "outputId": "1bc8a4ee-8acd-4519-fe4a-963a32b9fcf5"
      },
      "execution_count": 13,
      "outputs": [
        {
          "output_type": "stream",
          "name": "stdout",
          "text": [
            "30\n"
          ]
        }
      ]
    },
    {
      "cell_type": "markdown",
      "source": [
        "SUBTRACTION\n"
      ],
      "metadata": {
        "id": "mH_kxL2HZI3b"
      }
    },
    {
      "cell_type": "code",
      "source": [
        "a=20\n",
        "b=10\n",
        "print(a-b)"
      ],
      "metadata": {
        "colab": {
          "base_uri": "https://localhost:8080/"
        },
        "id": "i6rLBGDoUjPx",
        "outputId": "1b7b8eb7-a393-4078-82e8-2ea959df6806"
      },
      "execution_count": 1,
      "outputs": [
        {
          "output_type": "stream",
          "name": "stdout",
          "text": [
            "10\n"
          ]
        }
      ]
    },
    {
      "cell_type": "markdown",
      "source": [
        "MULTIPLICATIOM"
      ],
      "metadata": {
        "id": "vSTOqUV5ZcbE"
      }
    },
    {
      "cell_type": "code",
      "source": [
        "a=10\n",
        "b=30\n",
        "print(a*b)"
      ],
      "metadata": {
        "colab": {
          "base_uri": "https://localhost:8080/"
        },
        "id": "MuEfHmJFUkv5",
        "outputId": "463ddee4-1ca7-477f-f703-a9af379fb794"
      },
      "execution_count": 2,
      "outputs": [
        {
          "output_type": "stream",
          "name": "stdout",
          "text": [
            "300\n"
          ]
        }
      ]
    },
    {
      "cell_type": "markdown",
      "source": [
        "DIVISION\n"
      ],
      "metadata": {
        "id": "5AW9pae7ZqZl"
      }
    },
    {
      "cell_type": "code",
      "source": [
        "a=20\n",
        "b=30\n",
        "print(a/b)"
      ],
      "metadata": {
        "colab": {
          "base_uri": "https://localhost:8080/"
        },
        "id": "_4QKja56UlVa",
        "outputId": "d791ef83-6e12-46a1-9afa-cf9c3a12acd6"
      },
      "execution_count": 4,
      "outputs": [
        {
          "output_type": "stream",
          "name": "stdout",
          "text": [
            "0.6666666666666666\n"
          ]
        }
      ]
    },
    {
      "cell_type": "markdown",
      "source": [
        "Comparison operators"
      ],
      "metadata": {
        "id": "DvRO2ORLUOwC"
      }
    },
    {
      "cell_type": "code",
      "source": [
        "a=10\n",
        "b=30\n",
        "print(a==b)#== compare\n"
      ],
      "metadata": {
        "colab": {
          "base_uri": "https://localhost:8080/"
        },
        "id": "sBOMtBR9UUA8",
        "outputId": "2da5c0d7-e97e-4da0-a11a-ed16b0480b66"
      },
      "execution_count": 16,
      "outputs": [
        {
          "output_type": "stream",
          "name": "stdout",
          "text": [
            "False\n"
          ]
        }
      ]
    },
    {
      "cell_type": "markdown",
      "source": [
        "Assignment Operators"
      ],
      "metadata": {
        "id": "9PonQVdlVdR6"
      }
    },
    {
      "cell_type": "code",
      "source": [
        "a=10\n",
        "print(a)"
      ],
      "metadata": {
        "colab": {
          "base_uri": "https://localhost:8080/"
        },
        "id": "dhK83KM-Ve8Q",
        "outputId": "a7a29f7b-a3b8-4db2-95ea-35aa79519fb6"
      },
      "execution_count": 15,
      "outputs": [
        {
          "output_type": "stream",
          "name": "stdout",
          "text": [
            "10\n"
          ]
        }
      ]
    },
    {
      "cell_type": "markdown",
      "source": [
        "Logical Operators \n",
        "\n",
        "\n",
        "* and\n",
        "* or\n",
        "* not"
      ],
      "metadata": {
        "id": "ixxyXzwwVrxV"
      }
    },
    {
      "cell_type": "code",
      "source": [
        "age=10\n",
        "country=\"india\"\n",
        "if age>18 and country==\"india\":\n",
        "  print(\"eligible for vote\")\n",
        "else:\n",
        "  print(\"not eligible for vote\")"
      ],
      "metadata": {
        "colab": {
          "base_uri": "https://localhost:8080/"
        },
        "id": "MAjCDCkKVsdW",
        "outputId": "ccee444b-450d-4ce3-a046-384599340c34"
      },
      "execution_count": 17,
      "outputs": [
        {
          "output_type": "stream",
          "name": "stdout",
          "text": [
            "not eligible for vote\n"
          ]
        }
      ]
    },
    {
      "cell_type": "code",
      "source": [
        "age=10\n",
        "country=\"india\"\n",
        "if age>18 or country==\"india\":\n",
        "  print(\"eligible for vote\")\n",
        "else:\n",
        "  print(\"not eligible for vote\")"
      ],
      "metadata": {
        "colab": {
          "base_uri": "https://localhost:8080/"
        },
        "id": "ftQQyy0wXcWF",
        "outputId": "36410a50-bca7-4656-867c-9952e8c11746"
      },
      "execution_count": 18,
      "outputs": [
        {
          "output_type": "stream",
          "name": "stdout",
          "text": [
            "eligible for vote\n"
          ]
        }
      ]
    },
    {
      "cell_type": "code",
      "source": [
        "age=10\n",
        "country=\"india\"\n",
        "if age>18 and not country==\"india\":\n",
        "  print(\"eligible for vote\")\n",
        "else:\n",
        "  print(\"not eligible for vote\")"
      ],
      "metadata": {
        "colab": {
          "base_uri": "https://localhost:8080/"
        },
        "id": "1LXJoFBEXkS8",
        "outputId": "c7d5814d-5f6e-42d3-a40e-36f8d76afcc3"
      },
      "execution_count": 24,
      "outputs": [
        {
          "output_type": "stream",
          "name": "stdout",
          "text": [
            "not eligible for vote\n"
          ]
        }
      ]
    }
  ]
}