{
  "nbformat": 4,
  "nbformat_minor": 0,
  "metadata": {
    "colab": {
      "name": "functions.ipynb",
      "provenance": [],
      "collapsed_sections": [],
      "authorship_tag": "ABX9TyMP1D+N7NSxU/XP3YQfmgZF",
      "include_colab_link": true
    },
    "kernelspec": {
      "name": "python3",
      "display_name": "Python 3"
    },
    "language_info": {
      "name": "python"
    }
  },
  "cells": [
    {
      "cell_type": "markdown",
      "metadata": {
        "id": "view-in-github",
        "colab_type": "text"
      },
      "source": [
        "<a href=\"https://colab.research.google.com/github/Sravanthi123456789/Python/blob/main/functions.ipynb\" target=\"_parent\"><img src=\"https://colab.research.google.com/assets/colab-badge.svg\" alt=\"Open In Colab\"/></a>"
      ]
    },
    {
      "cell_type": "markdown",
      "source": [
        "FUNCTIONS IMPLEMENTATION\n"
      ],
      "metadata": {
        "id": "EClJBGnGnbUy"
      }
    },
    {
      "cell_type": "markdown",
      "source": [
        "***** EX:- Create a function that takes two num as arguments and return greatest of the two."
      ],
      "metadata": {
        "id": "9K7PpJVhn3VC"
      }
    },
    {
      "cell_type": "markdown",
      "source": [
        "def function_name=(arguments):\n",
        "  statement1\n",
        "  statement2\n",
        "  ------\n",
        "  -----\n",
        "  -----\n",
        "  return statement"
      ],
      "metadata": {
        "id": "nkErLegepAMS"
      }
    },
    {
      "cell_type": "code",
      "source": [
        "def compare(a,b):\n",
        "  if(a>b):\n",
        "    greater=a\n",
        "  else:\n",
        "    greater=b  \n",
        "  return greater     "
      ],
      "metadata": {
        "id": "S9DRXqECo1V8"
      },
      "execution_count": null,
      "outputs": []
    },
    {
      "cell_type": "code",
      "source": [
        "compare(10,30)"
      ],
      "metadata": {
        "colab": {
          "base_uri": "https://localhost:8080/"
        },
        "id": "QQQn2y54pbli",
        "outputId": "ab340ba0-9732-4e74-bcd6-94ba6687c890"
      },
      "execution_count": null,
      "outputs": [
        {
          "output_type": "execute_result",
          "data": {
            "text/plain": [
              "30"
            ]
          },
          "metadata": {},
          "execution_count": 7
        }
      ]
    },
    {
      "cell_type": "code",
      "source": [
        "compare(70,15)"
      ],
      "metadata": {
        "colab": {
          "base_uri": "https://localhost:8080/"
        },
        "id": "MzWCjbOypxAq",
        "outputId": "5ba33fcb-e9f4-4070-d9c0-a7f58238a8f6"
      },
      "execution_count": null,
      "outputs": [
        {
          "output_type": "execute_result",
          "data": {
            "text/plain": [
              "70"
            ]
          },
          "metadata": {},
          "execution_count": 8
        }
      ]
    }
  ]
}